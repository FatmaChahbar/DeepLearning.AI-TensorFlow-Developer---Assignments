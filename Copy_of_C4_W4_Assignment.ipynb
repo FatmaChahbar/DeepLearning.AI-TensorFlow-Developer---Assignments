{
  "nbformat": 4,
  "nbformat_minor": 0,
  "metadata": {
    "accelerator": "GPU",
    "colab": {
      "provenance": [],
      "include_colab_link": true
    },
    "kernelspec": {
      "display_name": "Python 3",
      "language": "python",
      "name": "python3"
    },
    "language_info": {
      "codemirror_mode": {
        "name": "ipython",
        "version": 3
      },
      "file_extension": ".py",
      "mimetype": "text/x-python",
      "name": "python",
      "nbconvert_exporter": "python",
      "pygments_lexer": "ipython3",
      "version": "3.8.5"
    }
  },
  "cells": [
    {
      "cell_type": "markdown",
      "metadata": {
        "id": "view-in-github",
        "colab_type": "text"
      },
      "source": [
        "<a href=\"https://colab.research.google.com/github/FatmaChahbar/DeepLearning.AI-Tensorflow-Developer_Assignments/blob/main/Copy_of_C4_W4_Assignment.ipynb\" target=\"_parent\"><img src=\"https://colab.research.google.com/assets/colab-badge.svg\" alt=\"Open In Colab\"/></a>"
      ]
    },
    {
      "cell_type": "code",
      "metadata": {
        "id": "zX4Kg8DUTKWO"
      },
      "source": [
        "#@title Licensed under the Apache License, Version 2.0 (the \"License\");\n",
        "# you may not use this file except in compliance with the License.\n",
        "# You may obtain a copy of the License at\n",
        "#\n",
        "# https://www.apache.org/licenses/LICENSE-2.0\n",
        "#\n",
        "# Unless required by applicable law or agreed to in writing, software\n",
        "# distributed under the License is distributed on an \"AS IS\" BASIS,\n",
        "# WITHOUT WARRANTIES OR CONDITIONS OF ANY KIND, either express or implied.\n",
        "# See the License for the specific language governing permissions and\n",
        "# limitations under the License."
      ],
      "execution_count": null,
      "outputs": []
    },
    {
      "cell_type": "markdown",
      "metadata": {
        "id": "1m0njwZtsvy_"
      },
      "source": [
        "**Note:** This notebook can run using TensorFlow 2.5.0"
      ]
    },
    {
      "cell_type": "code",
      "metadata": {
        "id": "D5DDeGwLsvzA"
      },
      "source": [
        "#!pip install tensorflow==2.5.0"
      ],
      "execution_count": null,
      "outputs": []
    },
    {
      "cell_type": "code",
      "metadata": {
        "id": "56XEQOGknrAk",
        "colab": {
          "base_uri": "https://localhost:8080/"
        },
        "outputId": "a57a03ea-3601-48bb-bfb8-7062e49d7e5d"
      },
      "source": [
        "import tensorflow as tf\n",
        "print(tf.__version__)"
      ],
      "execution_count": 1,
      "outputs": [
        {
          "output_type": "stream",
          "name": "stdout",
          "text": [
            "2.11.0\n"
          ]
        }
      ]
    },
    {
      "cell_type": "code",
      "metadata": {
        "id": "sLl52leVp5wU"
      },
      "source": [
        "import numpy as np\n",
        "import matplotlib.pyplot as plt\n",
        "def plot_series(time, series, format=\"-\", start=0, end=None):\n",
        "    plt.plot(time[start:end], series[start:end], format)\n",
        "    plt.xlabel(\"Time\")\n",
        "    plt.ylabel(\"Value\")\n",
        "    plt.grid(True)"
      ],
      "execution_count": 2,
      "outputs": []
    },
    {
      "cell_type": "code",
      "metadata": {
        "id": "tP7oqUdkk0gY",
        "colab": {
          "base_uri": "https://localhost:8080/"
        },
        "outputId": "db76b919-70c9-4bf9-b0c4-215664158baf"
      },
      "source": [
        "!wget --no-check-certificate \\\n",
        "    https://raw.githubusercontent.com/jbrownlee/Datasets/master/daily-min-temperatures.csv \\\n",
        "    -O /tmp/daily-min-temperatures.csv"
      ],
      "execution_count": 3,
      "outputs": [
        {
          "output_type": "stream",
          "name": "stdout",
          "text": [
            "--2023-02-18 17:33:28--  https://raw.githubusercontent.com/jbrownlee/Datasets/master/daily-min-temperatures.csv\n",
            "Resolving raw.githubusercontent.com (raw.githubusercontent.com)... 185.199.108.133, 185.199.109.133, 185.199.110.133, ...\n",
            "Connecting to raw.githubusercontent.com (raw.githubusercontent.com)|185.199.108.133|:443... connected.\n",
            "HTTP request sent, awaiting response... 200 OK\n",
            "Length: 67921 (66K) [text/plain]\n",
            "Saving to: ‘/tmp/daily-min-temperatures.csv’\n",
            "\n",
            "\r          /tmp/dail   0%[                    ]       0  --.-KB/s               \r/tmp/daily-min-temp 100%[===================>]  66.33K  --.-KB/s    in 0.004s  \n",
            "\n",
            "2023-02-18 17:33:28 (18.4 MB/s) - ‘/tmp/daily-min-temperatures.csv’ saved [67921/67921]\n",
            "\n"
          ]
        }
      ]
    },
    {
      "cell_type": "code",
      "metadata": {
        "id": "NcG9r1eClbTh",
        "colab": {
          "base_uri": "https://localhost:8080/",
          "height": 388
        },
        "outputId": "a2b71c00-4d3e-45fe-8036-240b8c7cdf8c"
      },
      "source": [
        "import csv\n",
        "time_step = []\n",
        "temps = []\n",
        "\n",
        "with open('/tmp/daily-min-temperatures.csv') as csvfile:\n",
        "  reader = csv.reader(csvfile, delimiter=',')\n",
        "  next(reader)\n",
        "  step=0\n",
        "  for row in reader:\n",
        "\n",
        "    temps.append(float(row[1]))\n",
        "    time_step.append(step)\n",
        "    step+=1\n",
        "# YOUR CODE HERE. READ TEMPERATURES INTO TEMPS\n",
        "# HAVE TIME STEPS BE A SIMPLE ARRAY OF 1, 2, 3, 4 etc\n",
        "\n",
        "series = np.array(temps)\n",
        "time = np.array(time_step)\n",
        "plt.figure(figsize=(10, 6))\n",
        "plot_series(time, series)"
      ],
      "execution_count": 4,
      "outputs": [
        {
          "output_type": "display_data",
          "data": {
            "text/plain": [
              "<Figure size 720x432 with 1 Axes>"
            ],
            "image/png": "[encoded data removed]"
          },
          "metadata": {
            "needs_background": "light"
          }
        }
      ]
    },
    {
      "cell_type": "code",
      "metadata": {
        "id": "L92YRw_IpCFG"
      },
      "source": [
        "split_time = 2500\n",
        "time_train =time[:split_time] # YOUR CODE HERE\n",
        "x_train =series[:split_time] # YOUR CODE HERE\n",
        "time_valid =time[split_time:] # YOUR CODE HERE\n",
        "x_valid =series[split_time:] # YOUR CODE HERE\n",
        "\n",
        "window_size = 30\n",
        "batch_size = 32\n",
        "shuffle_buffer_size = 1000\n"
      ],
      "execution_count": 5,
      "outputs": []
    },
    {
      "cell_type": "code",
      "metadata": {
        "id": "lJwUUZscnG38"
      },
      "source": [
        "def windowed_dataset(series, window_size, batch_size, shuffle_buffer):\n",
        "   dataset = tf.data.Dataset.from_tensor_slices(series)\n",
        "   dataset = dataset.window(window_size + 1, shift=1, drop_remainder=True)\n",
        "   dataset = dataset.flat_map(lambda window: window.batch(window_size + 1))\n",
        "   dataset = dataset.shuffle(shuffle_buffer).map(lambda window: (window[:-1], window[-1]))\n",
        "   dataset = dataset.batch(batch_size).prefetch(1)\n",
        "   return dataset\n",
        "    # YOUR CODE HERE"
      ],
      "execution_count": 6,
      "outputs": []
    },
    {
      "cell_type": "code",
      "metadata": {
        "id": "4XwGrf-A_wF0"
      },
      "source": [
        "def model_forecast(model, series, window_size):\n",
        "   dataset = tf.data.Dataset.from_tensor_slices(series)\n",
        "   dataset = dataset.window(window_size, shift=1, drop_remainder=True)\n",
        "   dataset = dataset.flat_map(lambda w: w.batch(window_size))\n",
        "   dataset = dataset.batch(32).prefetch(1)\n",
        "   forecast = model.predict(dataset)\n",
        "   return forecast\n",
        "\n",
        "\n",
        "    # YOUR CODE HERE"
      ],
      "execution_count": 7,
      "outputs": []
    },
    {
      "cell_type": "code",
      "metadata": {
        "id": "AclfYY3Mn6Ph",
        "colab": {
          "base_uri": "https://localhost:8080/"
        },
        "outputId": "bd91e06c-b301-4a22-c24b-e163aac4e644"
      },
      "source": [
        "tf.keras.backend.clear_session()\n",
        "tf.random.set_seed(51)\n",
        "np.random.seed(51)\n",
        "window_size = 64\n",
        "batch_size = 256\n",
        "train_set = windowed_dataset(x_train, window_size, batch_size, shuffle_buffer_size)\n",
        "print(train_set)\n",
        "print(x_train.shape)\n",
        "\n",
        "model = tf.keras.models.Sequential([\n",
        "                                     tf.keras.layers.Conv1D(filters=32, kernel_size=5,\n",
        "                      strides=1, padding=\"causal\",\n",
        "                      activation=\"relu\",\n",
        "                      input_shape=[None, 1]),\n",
        "  tf.keras.layers.LSTM(64, return_sequences=True),\n",
        "  tf.keras.layers.LSTM(64, return_sequences=True),\n",
        "  tf.keras.layers.Dense(30, activation=\"relu\"),\n",
        "  tf.keras.layers.Dense(10, activation=\"relu\"),\n",
        "  tf.keras.layers.Dense(1),\n",
        "  tf.keras.layers.Lambda(lambda x: x * 400)\n",
        "# YOUR CODE HERE\n",
        "])\n",
        "\n",
        "lr_schedule = tf.keras.callbacks.LearningRateScheduler(\n",
        "    lambda epoch: 1e-8 * 10**(epoch / 20))\n",
        "optimizer = tf.keras.optimizers.SGD(learning_rate=1e-8, momentum=0.9)\n",
        "model.compile(loss=tf.keras.losses.Huber(),\n",
        "              optimizer=optimizer,\n",
        "              metrics=[\"mae\"])\n",
        "history = model.fit(train_set, epochs=100, callbacks=[lr_schedule])\n"
      ],
      "execution_count": 8,
      "outputs": [
        {
          "output_type": "stream",
          "name": "stderr",
          "text": [
            "WARNING:tensorflow:From /usr/local/lib/python3.8/dist-packages/tensorflow/python/autograph/pyct/static_analysis/liveness.py:83: Analyzer.lamba_check (from tensorflow.python.autograph.pyct.static_analysis.liveness) is deprecated and will be removed after 2023-09-23.\n",
            "Instructions for updating:\n",
            "Lambda fuctions will be no more assumed to be used in the statement where they are used, or at least in the same block. https://github.com/tensorflow/tensorflow/issues/56089\n"
          ]
        },
        {
          "output_type": "stream",
          "name": "stdout",
          "text": [
            "<PrefetchDataset element_spec=(TensorSpec(shape=(None, None), dtype=tf.float64, name=None), TensorSpec(shape=(None,), dtype=tf.float64, name=None))>\n",
            "(2500,)\n",
            "Epoch 1/100\n",
            "10/10 [==============================] - 13s 62ms/step - loss: 11.8401 - mae: 12.3329 - lr: 1.0000e-08\n",
            "Epoch 2/100\n",
            "10/10 [==============================] - 1s 35ms/step - loss: 11.3343 - mae: 11.8266 - lr: 1.1220e-08\n",
            "Epoch 3/100\n",
            "10/10 [==============================] - 1s 34ms/step - loss: 10.5977 - mae: 11.0891 - lr: 1.2589e-08\n",
            "Epoch 4/100\n",
            "10/10 [==============================] - 1s 35ms/step - loss: 9.7742 - mae: 10.2647 - lr: 1.4125e-08\n",
            "Epoch 5/100\n",
            "10/10 [==============================] - 1s 38ms/step - loss: 8.9272 - mae: 9.4166 - lr: 1.5849e-08\n",
            "Epoch 6/100\n",
            "10/10 [==============================] - 1s 33ms/step - loss: 8.1024 - mae: 8.5906 - lr: 1.7783e-08\n",
            "Epoch 7/100\n",
            "10/10 [==============================] - 1s 34ms/step - loss: 7.3248 - mae: 7.8118 - lr: 1.9953e-08\n",
            "Epoch 8/100\n",
            "10/10 [==============================] - 1s 36ms/step - loss: 6.6372 - mae: 7.1231 - lr: 2.2387e-08\n",
            "Epoch 9/100\n",
            "10/10 [==============================] - 1s 34ms/step - loss: 6.0542 - mae: 6.5389 - lr: 2.5119e-08\n",
            "Epoch 10/100\n",
            "10/10 [==============================] - 1s 35ms/step - loss: 5.6026 - mae: 6.0861 - lr: 2.8184e-08\n",
            "Epoch 11/100\n",
            "10/10 [==============================] - 0s 34ms/step - loss: 5.2759 - mae: 5.7580 - lr: 3.1623e-08\n",
            "Epoch 12/100\n",
            "10/10 [==============================] - 1s 34ms/step - loss: 5.0387 - mae: 5.5199 - lr: 3.5481e-08\n",
            "Epoch 13/100\n",
            "10/10 [==============================] - 1s 34ms/step - loss: 4.8400 - mae: 5.3201 - lr: 3.9811e-08\n",
            "Epoch 14/100\n",
            "10/10 [==============================] - 1s 47ms/step - loss: 4.6729 - mae: 5.1520 - lr: 4.4668e-08\n",
            "Epoch 15/100\n",
            "10/10 [==============================] - 1s 67ms/step - loss: 4.4963 - mae: 4.9744 - lr: 5.0119e-08\n",
            "Epoch 16/100\n",
            "10/10 [==============================] - 1s 35ms/step - loss: 4.3396 - mae: 4.8168 - lr: 5.6234e-08\n",
            "Epoch 17/100\n",
            "10/10 [==============================] - 1s 34ms/step - loss: 4.1955 - mae: 4.6718 - lr: 6.3096e-08\n",
            "Epoch 18/100\n",
            "10/10 [==============================] - 0s 33ms/step - loss: 4.0528 - mae: 4.5283 - lr: 7.0795e-08\n",
            "Epoch 19/100\n",
            "10/10 [==============================] - 1s 36ms/step - loss: 3.9312 - mae: 4.4059 - lr: 7.9433e-08\n",
            "Epoch 20/100\n",
            "10/10 [==============================] - 0s 33ms/step - loss: 3.8371 - mae: 4.3113 - lr: 8.9125e-08\n",
            "Epoch 21/100\n",
            "10/10 [==============================] - 1s 36ms/step - loss: 3.7517 - mae: 4.2254 - lr: 1.0000e-07\n",
            "Epoch 22/100\n",
            "10/10 [==============================] - 1s 37ms/step - loss: 3.6822 - mae: 4.1556 - lr: 1.1220e-07\n",
            "Epoch 23/100\n",
            "10/10 [==============================] - 1s 38ms/step - loss: 3.6284 - mae: 4.1015 - lr: 1.2589e-07\n",
            "Epoch 24/100\n",
            "10/10 [==============================] - 1s 34ms/step - loss: 3.5809 - mae: 4.0537 - lr: 1.4125e-07\n",
            "Epoch 25/100\n",
            "10/10 [==============================] - 1s 33ms/step - loss: 3.5436 - mae: 4.0164 - lr: 1.5849e-07\n",
            "Epoch 26/100\n",
            "10/10 [==============================] - 1s 34ms/step - loss: 3.5071 - mae: 3.9799 - lr: 1.7783e-07\n",
            "Epoch 27/100\n",
            "10/10 [==============================] - 0s 32ms/step - loss: 3.4743 - mae: 3.9469 - lr: 1.9953e-07\n",
            "Epoch 28/100\n",
            "10/10 [==============================] - 1s 36ms/step - loss: 3.4387 - mae: 3.9111 - lr: 2.2387e-07\n",
            "Epoch 29/100\n",
            "10/10 [==============================] - 1s 34ms/step - loss: 3.4034 - mae: 3.8756 - lr: 2.5119e-07\n",
            "Epoch 30/100\n",
            "10/10 [==============================] - 1s 35ms/step - loss: 3.3673 - mae: 3.8393 - lr: 2.8184e-07\n",
            "Epoch 31/100\n",
            "10/10 [==============================] - 0s 32ms/step - loss: 3.3281 - mae: 3.8000 - lr: 3.1623e-07\n",
            "Epoch 32/100\n",
            "10/10 [==============================] - 0s 31ms/step - loss: 3.2997 - mae: 3.7715 - lr: 3.5481e-07\n",
            "Epoch 33/100\n",
            "10/10 [==============================] - 1s 65ms/step - loss: 3.2633 - mae: 3.7349 - lr: 3.9811e-07\n",
            "Epoch 34/100\n",
            "10/10 [==============================] - 1s 64ms/step - loss: 3.2311 - mae: 3.7025 - lr: 4.4668e-07\n",
            "Epoch 35/100\n",
            "10/10 [==============================] - 1s 34ms/step - loss: 3.1957 - mae: 3.6668 - lr: 5.0119e-07\n",
            "Epoch 36/100\n",
            "10/10 [==============================] - 1s 35ms/step - loss: 3.1643 - mae: 3.6352 - lr: 5.6234e-07\n",
            "Epoch 37/100\n",
            "10/10 [==============================] - 1s 33ms/step - loss: 3.1373 - mae: 3.6079 - lr: 6.3096e-07\n",
            "Epoch 38/100\n",
            "10/10 [==============================] - 1s 36ms/step - loss: 3.1137 - mae: 3.5842 - lr: 7.0795e-07\n",
            "Epoch 39/100\n",
            "10/10 [==============================] - 1s 33ms/step - loss: 3.0857 - mae: 3.5560 - lr: 7.9433e-07\n",
            "Epoch 40/100\n",
            "10/10 [==============================] - 1s 35ms/step - loss: 3.0770 - mae: 3.5473 - lr: 8.9125e-07\n",
            "Epoch 41/100\n",
            "10/10 [==============================] - 0s 34ms/step - loss: 3.0468 - mae: 3.5167 - lr: 1.0000e-06\n",
            "Epoch 42/100\n",
            "10/10 [==============================] - 0s 34ms/step - loss: 3.0261 - mae: 3.4959 - lr: 1.1220e-06\n",
            "Epoch 43/100\n",
            "10/10 [==============================] - 0s 33ms/step - loss: 3.0088 - mae: 3.4785 - lr: 1.2589e-06\n",
            "Epoch 44/100\n",
            "10/10 [==============================] - 0s 33ms/step - loss: 3.0016 - mae: 3.4712 - lr: 1.4125e-06\n",
            "Epoch 45/100\n",
            "10/10 [==============================] - 1s 34ms/step - loss: 2.9783 - mae: 3.4476 - lr: 1.5849e-06\n",
            "Epoch 46/100\n",
            "10/10 [==============================] - 0s 31ms/step - loss: 2.9727 - mae: 3.4418 - lr: 1.7783e-06\n",
            "Epoch 47/100\n",
            "10/10 [==============================] - 1s 35ms/step - loss: 2.9577 - mae: 3.4269 - lr: 1.9953e-06\n",
            "Epoch 48/100\n",
            "10/10 [==============================] - 0s 31ms/step - loss: 2.9454 - mae: 3.4147 - lr: 2.2387e-06\n",
            "Epoch 49/100\n",
            "10/10 [==============================] - 0s 32ms/step - loss: 2.9309 - mae: 3.3997 - lr: 2.5119e-06\n",
            "Epoch 50/100\n",
            "10/10 [==============================] - 0s 34ms/step - loss: 2.9529 - mae: 3.4225 - lr: 2.8184e-06\n",
            "Epoch 51/100\n",
            "10/10 [==============================] - 1s 35ms/step - loss: 2.9081 - mae: 3.3770 - lr: 3.1623e-06\n",
            "Epoch 52/100\n",
            "10/10 [==============================] - 1s 57ms/step - loss: 2.8998 - mae: 3.3686 - lr: 3.5481e-06\n",
            "Epoch 53/100\n",
            "10/10 [==============================] - 1s 52ms/step - loss: 2.8859 - mae: 3.3546 - lr: 3.9811e-06\n",
            "Epoch 54/100\n",
            "10/10 [==============================] - 1s 34ms/step - loss: 2.8922 - mae: 3.3606 - lr: 4.4668e-06\n",
            "Epoch 55/100\n",
            "10/10 [==============================] - 0s 33ms/step - loss: 2.9308 - mae: 3.3999 - lr: 5.0119e-06\n",
            "Epoch 56/100\n",
            "10/10 [==============================] - 1s 34ms/step - loss: 3.0313 - mae: 3.5008 - lr: 5.6234e-06\n",
            "Epoch 57/100\n",
            "10/10 [==============================] - 1s 34ms/step - loss: 2.9789 - mae: 3.4488 - lr: 6.3096e-06\n",
            "Epoch 58/100\n",
            "10/10 [==============================] - 1s 39ms/step - loss: 2.8803 - mae: 3.3491 - lr: 7.0795e-06\n",
            "Epoch 59/100\n",
            "10/10 [==============================] - 1s 37ms/step - loss: 2.8884 - mae: 3.3573 - lr: 7.9433e-06\n",
            "Epoch 60/100\n",
            "10/10 [==============================] - 1s 34ms/step - loss: 2.9708 - mae: 3.4405 - lr: 8.9125e-06\n",
            "Epoch 61/100\n",
            "10/10 [==============================] - 0s 34ms/step - loss: 2.8558 - mae: 3.3240 - lr: 1.0000e-05\n",
            "Epoch 62/100\n",
            "10/10 [==============================] - 0s 34ms/step - loss: 2.8891 - mae: 3.3569 - lr: 1.1220e-05\n",
            "Epoch 63/100\n",
            "10/10 [==============================] - 1s 36ms/step - loss: 2.8609 - mae: 3.3290 - lr: 1.2589e-05\n",
            "Epoch 64/100\n",
            "10/10 [==============================] - 0s 32ms/step - loss: 3.1878 - mae: 3.6583 - lr: 1.4125e-05\n",
            "Epoch 65/100\n",
            "10/10 [==============================] - 1s 34ms/step - loss: 2.8781 - mae: 3.3468 - lr: 1.5849e-05\n",
            "Epoch 66/100\n",
            "10/10 [==============================] - 1s 33ms/step - loss: 3.0365 - mae: 3.5067 - lr: 1.7783e-05\n",
            "Epoch 67/100\n",
            "10/10 [==============================] - 0s 33ms/step - loss: 3.3136 - mae: 3.7863 - lr: 1.9953e-05\n",
            "Epoch 68/100\n",
            "10/10 [==============================] - 0s 32ms/step - loss: 3.1539 - mae: 3.6247 - lr: 2.2387e-05\n",
            "Epoch 69/100\n",
            "10/10 [==============================] - 0s 32ms/step - loss: 3.8335 - mae: 4.3106 - lr: 2.5119e-05\n",
            "Epoch 70/100\n",
            "10/10 [==============================] - 0s 32ms/step - loss: 2.9540 - mae: 3.4231 - lr: 2.8184e-05\n",
            "Epoch 71/100\n",
            "10/10 [==============================] - 1s 69ms/step - loss: 2.7678 - mae: 3.2339 - lr: 3.1623e-05\n",
            "Epoch 72/100\n",
            "10/10 [==============================] - 1s 68ms/step - loss: 2.7407 - mae: 3.2068 - lr: 3.5481e-05\n",
            "Epoch 73/100\n",
            "10/10 [==============================] - 1s 55ms/step - loss: 2.7879 - mae: 3.2554 - lr: 3.9811e-05\n",
            "Epoch 74/100\n",
            "10/10 [==============================] - 1s 34ms/step - loss: 2.9194 - mae: 3.3876 - lr: 4.4668e-05\n",
            "Epoch 75/100\n",
            "10/10 [==============================] - 1s 35ms/step - loss: 3.0655 - mae: 3.5368 - lr: 5.0119e-05\n",
            "Epoch 76/100\n",
            "10/10 [==============================] - 1s 37ms/step - loss: 2.9163 - mae: 3.3840 - lr: 5.6234e-05\n",
            "Epoch 77/100\n",
            "10/10 [==============================] - 1s 34ms/step - loss: 2.8269 - mae: 3.2940 - lr: 6.3096e-05\n",
            "Epoch 78/100\n",
            "10/10 [==============================] - 0s 34ms/step - loss: 2.9252 - mae: 3.3963 - lr: 7.0795e-05\n",
            "Epoch 79/100\n",
            "10/10 [==============================] - 1s 35ms/step - loss: 2.7598 - mae: 3.2250 - lr: 7.9433e-05\n",
            "Epoch 80/100\n",
            "10/10 [==============================] - 1s 35ms/step - loss: 2.8700 - mae: 3.3398 - lr: 8.9125e-05\n",
            "Epoch 81/100\n",
            "10/10 [==============================] - 1s 33ms/step - loss: 3.0835 - mae: 3.5539 - lr: 1.0000e-04\n",
            "Epoch 82/100\n",
            "10/10 [==============================] - 0s 33ms/step - loss: 2.9034 - mae: 3.3687 - lr: 1.1220e-04\n",
            "Epoch 83/100\n",
            "10/10 [==============================] - 0s 31ms/step - loss: 3.5814 - mae: 4.0540 - lr: 1.2589e-04\n",
            "Epoch 84/100\n",
            "10/10 [==============================] - 0s 33ms/step - loss: 4.3203 - mae: 4.8000 - lr: 1.4125e-04\n",
            "Epoch 85/100\n",
            "10/10 [==============================] - 0s 33ms/step - loss: 5.0885 - mae: 5.5734 - lr: 1.5849e-04\n",
            "Epoch 86/100\n",
            "10/10 [==============================] - 0s 31ms/step - loss: 5.1653 - mae: 5.6468 - lr: 1.7783e-04\n",
            "Epoch 87/100\n",
            "10/10 [==============================] - 1s 36ms/step - loss: 7.0433 - mae: 7.5347 - lr: 1.9953e-04\n",
            "Epoch 88/100\n",
            "10/10 [==============================] - 1s 34ms/step - loss: 8.7382 - mae: 9.2344 - lr: 2.2387e-04\n",
            "Epoch 89/100\n",
            "10/10 [==============================] - 0s 33ms/step - loss: 9.3638 - mae: 9.8588 - lr: 2.5119e-04\n",
            "Epoch 90/100\n",
            "10/10 [==============================] - 1s 66ms/step - loss: 11.2004 - mae: 11.6996 - lr: 2.8184e-04\n",
            "Epoch 91/100\n",
            "10/10 [==============================] - 1s 62ms/step - loss: 12.7283 - mae: 13.2271 - lr: 3.1623e-04\n",
            "Epoch 92/100\n",
            "10/10 [==============================] - 1s 37ms/step - loss: 14.3779 - mae: 14.8772 - lr: 3.5481e-04\n",
            "Epoch 93/100\n",
            "10/10 [==============================] - 0s 33ms/step - loss: 16.4431 - mae: 16.9424 - lr: 3.9811e-04\n",
            "Epoch 94/100\n",
            "10/10 [==============================] - 1s 34ms/step - loss: 17.9829 - mae: 18.4824 - lr: 4.4668e-04\n",
            "Epoch 95/100\n",
            "10/10 [==============================] - 0s 33ms/step - loss: 20.2938 - mae: 20.7931 - lr: 5.0119e-04\n",
            "Epoch 96/100\n",
            "10/10 [==============================] - 1s 33ms/step - loss: 23.1109 - mae: 23.6107 - lr: 5.6234e-04\n",
            "Epoch 97/100\n",
            "10/10 [==============================] - 1s 35ms/step - loss: 51.0608 - mae: 51.5588 - lr: 6.3096e-04\n",
            "Epoch 98/100\n",
            "10/10 [==============================] - 1s 35ms/step - loss: 80.7988 - mae: 81.2985 - lr: 7.0795e-04\n",
            "Epoch 99/100\n",
            "10/10 [==============================] - 1s 34ms/step - loss: 126.4725 - mae: 126.9725 - lr: 7.9433e-04\n",
            "Epoch 100/100\n",
            "10/10 [==============================] - 1s 34ms/step - loss: 81.4626 - mae: 81.9626 - lr: 8.9125e-04\n"
          ]
        }
      ]
    },
    {
      "cell_type": "code",
      "metadata": {
        "id": "vVcKmg7Q_7rD",
        "colab": {
          "base_uri": "https://localhost:8080/",
          "height": 291
        },
        "outputId": "bd75ee84-b4c0-4f14-d46a-badf6e286160"
      },
      "source": [
        "plt.semilogx(history.history[\"lr\"], history.history[\"loss\"])\n",
        "plt.axis([1e-8, 1e-4, 0, 60])"
      ],
      "execution_count": 9,
      "outputs": [
        {
          "output_type": "execute_result",
          "data": {
            "text/plain": [
              "(1e-08, 0.0001, 0.0, 60.0)"
            ]
          },
          "metadata": {},
          "execution_count": 9
        },
        {
          "output_type": "display_data",
          "data": {
            "text/plain": [
              "<Figure size 432x288 with 1 Axes>"
            ],
            "image/png": "[encoded data removed]"
          },
          "metadata": {
            "needs_background": "light"
          }
        }
      ]
    },
    {
      "cell_type": "code",
      "metadata": {
        "id": "QsksvkcXAAgq",
        "colab": {
          "base_uri": "https://localhost:8080/"
        },
        "outputId": "ffb5c65f-1fdb-4954-cca0-9075e854ea3a"
      },
      "source": [
        "tf.keras.backend.clear_session()\n",
        "tf.random.set_seed(51)\n",
        "np.random.seed(51)\n",
        "train_set = windowed_dataset(x_train, window_size=60, batch_size=100, shuffle_buffer=shuffle_buffer_size)\n",
        "model = tf.keras.models.Sequential([\n",
        "    # YOUR CODE HERE\n",
        "  tf.keras.layers.Conv1D(filters=60, kernel_size=5,\n",
        "                      strides=1, padding=\"causal\",\n",
        "                      activation=\"relu\",\n",
        "                      input_shape=[None, 1]),\n",
        "  tf.keras.layers.LSTM(60, return_sequences=True),\n",
        "  tf.keras.layers.LSTM(60, return_sequences=True),\n",
        "  tf.keras.layers.Dense(30, activation=\"relu\"),\n",
        "  tf.keras.layers.Dense(10, activation=\"relu\"),\n",
        "  tf.keras.layers.Dense(1),\n",
        "  tf.keras.layers.Lambda(lambda x: x * 400)\n",
        "])\n",
        "\n",
        "\n",
        "optimizer = tf.keras.optimizers.SGD(learning_rate=1e-5, momentum=0.9)# YOUR CODE HERE, momentum=0.9)\n",
        "model.compile(loss=tf.keras.losses.Huber(),\n",
        "              optimizer=optimizer,\n",
        "              metrics=[\"mae\"])\n",
        "history = model.fit(train_set,epochs=150)# YOUR CODE HERE)\n",
        "\n",
        "# EXPECTED OUTPUT SHOULD SEE AN MAE OF <2 WITHIN ABOUT 30 EPOCHS"
      ],
      "execution_count": 11,
      "outputs": [
        {
          "output_type": "stream",
          "name": "stdout",
          "text": [
            "Epoch 1/150\n",
            "25/25 [==============================] - 4s 20ms/step - loss: 6.7173 - mae: 7.2010\n",
            "Epoch 2/150\n",
            "25/25 [==============================] - 1s 20ms/step - loss: 3.1303 - mae: 3.6009\n",
            "Epoch 3/150\n",
            "25/25 [==============================] - 1s 18ms/step - loss: 3.1160 - mae: 3.5871\n",
            "Epoch 4/150\n",
            "25/25 [==============================] - 1s 19ms/step - loss: 3.1229 - mae: 3.5935\n",
            "Epoch 5/150\n",
            "25/25 [==============================] - 1s 21ms/step - loss: 3.1638 - mae: 3.6334\n",
            "Epoch 6/150\n",
            "25/25 [==============================] - 1s 19ms/step - loss: 3.1462 - mae: 3.6158\n",
            "Epoch 7/150\n",
            "25/25 [==============================] - 1s 31ms/step - loss: 3.0120 - mae: 3.4811\n",
            "Epoch 8/150\n",
            "25/25 [==============================] - 1s 34ms/step - loss: 2.9924 - mae: 3.4615\n",
            "Epoch 9/150\n",
            "25/25 [==============================] - 1s 19ms/step - loss: 3.6277 - mae: 4.1021\n",
            "Epoch 10/150\n",
            "25/25 [==============================] - 1s 21ms/step - loss: 2.9283 - mae: 3.3980\n",
            "Epoch 11/150\n",
            "25/25 [==============================] - 1s 20ms/step - loss: 2.8884 - mae: 3.3577\n",
            "Epoch 12/150\n",
            "25/25 [==============================] - 1s 19ms/step - loss: 3.0571 - mae: 3.5271\n",
            "Epoch 13/150\n",
            "25/25 [==============================] - 1s 19ms/step - loss: 3.1294 - mae: 3.5994\n",
            "Epoch 14/150\n",
            "25/25 [==============================] - 1s 19ms/step - loss: 3.2440 - mae: 3.7142\n",
            "Epoch 15/150\n",
            "25/25 [==============================] - 1s 20ms/step - loss: 2.9521 - mae: 3.4218\n",
            "Epoch 16/150\n",
            "25/25 [==============================] - 1s 20ms/step - loss: 2.9282 - mae: 3.3984\n",
            "Epoch 17/150\n",
            "25/25 [==============================] - 1s 19ms/step - loss: 2.9960 - mae: 3.4659\n",
            "Epoch 18/150\n",
            "25/25 [==============================] - 1s 21ms/step - loss: 2.8564 - mae: 3.3245\n",
            "Epoch 19/150\n",
            "25/25 [==============================] - 1s 20ms/step - loss: 2.8071 - mae: 3.2743\n",
            "Epoch 20/150\n",
            "25/25 [==============================] - 1s 18ms/step - loss: 2.8829 - mae: 3.3522\n",
            "Epoch 21/150\n",
            "25/25 [==============================] - 1s 34ms/step - loss: 2.7908 - mae: 3.2584\n",
            "Epoch 22/150\n",
            "25/25 [==============================] - 1s 36ms/step - loss: 2.8074 - mae: 3.2745\n",
            "Epoch 23/150\n",
            "25/25 [==============================] - 1s 20ms/step - loss: 2.8237 - mae: 3.2917\n",
            "Epoch 24/150\n",
            "25/25 [==============================] - 1s 20ms/step - loss: 2.8901 - mae: 3.3581\n",
            "Epoch 25/150\n",
            "25/25 [==============================] - 1s 20ms/step - loss: 2.7991 - mae: 3.2667\n",
            "Epoch 26/150\n",
            "25/25 [==============================] - 1s 20ms/step - loss: 2.8248 - mae: 3.2935\n",
            "Epoch 27/150\n",
            "25/25 [==============================] - 1s 20ms/step - loss: 2.7953 - mae: 3.2641\n",
            "Epoch 28/150\n",
            "25/25 [==============================] - 1s 19ms/step - loss: 2.7960 - mae: 3.2643\n",
            "Epoch 29/150\n",
            "25/25 [==============================] - 1s 21ms/step - loss: 2.8325 - mae: 3.3024\n",
            "Epoch 30/150\n",
            "25/25 [==============================] - 1s 18ms/step - loss: 2.7942 - mae: 3.2629\n",
            "Epoch 31/150\n",
            "25/25 [==============================] - 1s 19ms/step - loss: 2.7662 - mae: 3.2341\n",
            "Epoch 32/150\n",
            "25/25 [==============================] - 1s 21ms/step - loss: 2.7870 - mae: 3.2529\n",
            "Epoch 33/150\n",
            "25/25 [==============================] - 1s 30ms/step - loss: 2.7659 - mae: 3.2339\n",
            "Epoch 34/150\n",
            "25/25 [==============================] - 1s 33ms/step - loss: 2.7758 - mae: 3.2434\n",
            "Epoch 35/150\n",
            "25/25 [==============================] - 1s 19ms/step - loss: 2.8259 - mae: 3.2922\n",
            "Epoch 36/150\n",
            "25/25 [==============================] - 1s 19ms/step - loss: 2.7611 - mae: 3.2283\n",
            "Epoch 37/150\n",
            "25/25 [==============================] - 1s 19ms/step - loss: 2.7623 - mae: 3.2298\n",
            "Epoch 38/150\n",
            "25/25 [==============================] - 1s 19ms/step - loss: 2.8044 - mae: 3.2710\n",
            "Epoch 39/150\n",
            "25/25 [==============================] - 1s 20ms/step - loss: 2.7844 - mae: 3.2534\n",
            "Epoch 40/150\n",
            "25/25 [==============================] - 1s 19ms/step - loss: 2.7847 - mae: 3.2532\n",
            "Epoch 41/150\n",
            "25/25 [==============================] - 1s 19ms/step - loss: 2.7924 - mae: 3.2602\n",
            "Epoch 42/150\n",
            "25/25 [==============================] - 1s 19ms/step - loss: 2.7949 - mae: 3.2633\n",
            "Epoch 43/150\n",
            "25/25 [==============================] - 1s 20ms/step - loss: 2.7665 - mae: 3.2319\n",
            "Epoch 44/150\n",
            "25/25 [==============================] - 1s 19ms/step - loss: 2.7492 - mae: 3.2154\n",
            "Epoch 45/150\n",
            "25/25 [==============================] - 1s 20ms/step - loss: 2.7852 - mae: 3.2534\n",
            "Epoch 46/150\n",
            "25/25 [==============================] - 1s 35ms/step - loss: 2.7669 - mae: 3.2354\n",
            "Epoch 47/150\n",
            "25/25 [==============================] - 1s 20ms/step - loss: 2.8304 - mae: 3.3017\n",
            "Epoch 48/150\n",
            "25/25 [==============================] - 1s 20ms/step - loss: 2.8395 - mae: 3.3084\n",
            "Epoch 49/150\n",
            "25/25 [==============================] - 1s 20ms/step - loss: 2.7736 - mae: 3.2416\n",
            "Epoch 50/150\n",
            "25/25 [==============================] - 1s 20ms/step - loss: 2.8306 - mae: 3.2975\n",
            "Epoch 51/150\n",
            "25/25 [==============================] - 1s 22ms/step - loss: 3.1589 - mae: 3.6300\n",
            "Epoch 52/150\n",
            "25/25 [==============================] - 1s 41ms/step - loss: 3.0337 - mae: 3.5033\n",
            "Epoch 53/150\n",
            "25/25 [==============================] - 1s 38ms/step - loss: 2.8408 - mae: 3.3100\n",
            "Epoch 54/150\n",
            "25/25 [==============================] - 2s 62ms/step - loss: 2.8382 - mae: 3.3053\n",
            "Epoch 55/150\n",
            "25/25 [==============================] - 2s 53ms/step - loss: 2.8584 - mae: 3.3247\n",
            "Epoch 56/150\n",
            "25/25 [==============================] - 1s 33ms/step - loss: 2.8431 - mae: 3.3114\n",
            "Epoch 57/150\n",
            "25/25 [==============================] - 1s 37ms/step - loss: 2.8121 - mae: 3.2793\n",
            "Epoch 58/150\n",
            "25/25 [==============================] - 1s 35ms/step - loss: 2.7594 - mae: 3.2272\n",
            "Epoch 59/150\n",
            "25/25 [==============================] - 2s 44ms/step - loss: 2.8319 - mae: 3.2982\n",
            "Epoch 60/150\n",
            "25/25 [==============================] - 1s 35ms/step - loss: 2.7779 - mae: 3.2467\n",
            "Epoch 61/150\n",
            "25/25 [==============================] - 1s 31ms/step - loss: 2.7854 - mae: 3.2515\n",
            "Epoch 62/150\n",
            "25/25 [==============================] - 1s 20ms/step - loss: 2.7829 - mae: 3.2485\n",
            "Epoch 63/150\n",
            "25/25 [==============================] - 1s 26ms/step - loss: 2.8538 - mae: 3.3225\n",
            "Epoch 64/150\n",
            "25/25 [==============================] - 1s 35ms/step - loss: 2.8156 - mae: 3.2837\n",
            "Epoch 65/150\n",
            "25/25 [==============================] - 1s 27ms/step - loss: 2.7495 - mae: 3.2164\n",
            "Epoch 66/150\n",
            "25/25 [==============================] - 1s 19ms/step - loss: 2.7605 - mae: 3.2270\n",
            "Epoch 67/150\n",
            "25/25 [==============================] - 1s 20ms/step - loss: 2.8632 - mae: 3.3345\n",
            "Epoch 68/150\n",
            "25/25 [==============================] - 1s 20ms/step - loss: 2.8558 - mae: 3.3258\n",
            "Epoch 69/150\n",
            "25/25 [==============================] - 1s 19ms/step - loss: 2.7699 - mae: 3.2392\n",
            "Epoch 70/150\n",
            "25/25 [==============================] - 1s 19ms/step - loss: 2.7640 - mae: 3.2310\n",
            "Epoch 71/150\n",
            "25/25 [==============================] - 1s 20ms/step - loss: 2.8644 - mae: 3.3321\n",
            "Epoch 72/150\n",
            "25/25 [==============================] - 1s 20ms/step - loss: 2.7792 - mae: 3.2484\n",
            "Epoch 73/150\n",
            "25/25 [==============================] - 1s 19ms/step - loss: 2.7418 - mae: 3.2092\n",
            "Epoch 74/150\n",
            "25/25 [==============================] - 1s 19ms/step - loss: 2.7829 - mae: 3.2509\n",
            "Epoch 75/150\n",
            "25/25 [==============================] - 1s 20ms/step - loss: 2.7626 - mae: 3.2302\n",
            "Epoch 76/150\n",
            "25/25 [==============================] - 1s 19ms/step - loss: 2.8592 - mae: 3.3270\n",
            "Epoch 77/150\n",
            "25/25 [==============================] - 1s 19ms/step - loss: 2.8017 - mae: 3.2696\n",
            "Epoch 78/150\n",
            "25/25 [==============================] - 1s 37ms/step - loss: 2.7558 - mae: 3.2220\n",
            "Epoch 79/150\n",
            "25/25 [==============================] - 1s 20ms/step - loss: 2.7821 - mae: 3.2483\n",
            "Epoch 80/150\n",
            "25/25 [==============================] - 1s 19ms/step - loss: 3.0153 - mae: 3.4861\n",
            "Epoch 81/150\n",
            "25/25 [==============================] - 1s 19ms/step - loss: 2.7654 - mae: 3.2308\n",
            "Epoch 82/150\n",
            "25/25 [==============================] - 1s 19ms/step - loss: 2.7509 - mae: 3.2187\n",
            "Epoch 83/150\n",
            "25/25 [==============================] - 1s 20ms/step - loss: 2.7885 - mae: 3.2550\n",
            "Epoch 84/150\n",
            "25/25 [==============================] - 1s 20ms/step - loss: 2.7724 - mae: 3.2400\n",
            "Epoch 85/150\n",
            "25/25 [==============================] - 1s 18ms/step - loss: 2.7499 - mae: 3.2162\n",
            "Epoch 86/150\n",
            "25/25 [==============================] - 1s 19ms/step - loss: 2.7563 - mae: 3.2218\n",
            "Epoch 87/150\n",
            "25/25 [==============================] - 1s 19ms/step - loss: 2.7816 - mae: 3.2505\n",
            "Epoch 88/150\n",
            "25/25 [==============================] - 1s 19ms/step - loss: 2.7886 - mae: 3.2581\n",
            "Epoch 89/150\n",
            "25/25 [==============================] - 1s 19ms/step - loss: 2.7603 - mae: 3.2284\n",
            "Epoch 90/150\n",
            "25/25 [==============================] - 1s 19ms/step - loss: 2.7658 - mae: 3.2338\n",
            "Epoch 91/150\n",
            "25/25 [==============================] - 1s 19ms/step - loss: 2.7945 - mae: 3.2637\n",
            "Epoch 92/150\n",
            "25/25 [==============================] - 1s 19ms/step - loss: 2.7689 - mae: 3.2351\n",
            "Epoch 93/150\n",
            "25/25 [==============================] - 1s 34ms/step - loss: 2.7930 - mae: 3.2613\n",
            "Epoch 94/150\n",
            "25/25 [==============================] - 1s 22ms/step - loss: 2.7411 - mae: 3.2080\n",
            "Epoch 95/150\n",
            "25/25 [==============================] - 1s 19ms/step - loss: 2.7724 - mae: 3.2361\n",
            "Epoch 96/150\n",
            "25/25 [==============================] - 1s 20ms/step - loss: 3.0933 - mae: 3.5643\n",
            "Epoch 97/150\n",
            "25/25 [==============================] - 1s 19ms/step - loss: 2.8835 - mae: 3.3518\n",
            "Epoch 98/150\n",
            "25/25 [==============================] - 1s 19ms/step - loss: 2.8000 - mae: 3.2678\n",
            "Epoch 99/150\n",
            "25/25 [==============================] - 1s 20ms/step - loss: 2.7720 - mae: 3.2405\n",
            "Epoch 100/150\n",
            "25/25 [==============================] - 1s 20ms/step - loss: 2.7564 - mae: 3.2239\n",
            "Epoch 101/150\n",
            "25/25 [==============================] - 1s 19ms/step - loss: 2.8908 - mae: 3.3614\n",
            "Epoch 102/150\n",
            "25/25 [==============================] - 1s 20ms/step - loss: 2.7424 - mae: 3.2092\n",
            "Epoch 103/150\n",
            "25/25 [==============================] - 1s 19ms/step - loss: 2.8474 - mae: 3.3158\n",
            "Epoch 104/150\n",
            "25/25 [==============================] - 1s 19ms/step - loss: 2.8632 - mae: 3.3335\n",
            "Epoch 105/150\n",
            "25/25 [==============================] - 1s 34ms/step - loss: 2.8134 - mae: 3.2838\n",
            "Epoch 106/150\n",
            "25/25 [==============================] - 1s 33ms/step - loss: 2.8134 - mae: 3.2817\n",
            "Epoch 107/150\n",
            "25/25 [==============================] - 1s 20ms/step - loss: 2.7750 - mae: 3.2436\n",
            "Epoch 108/150\n",
            "25/25 [==============================] - 1s 19ms/step - loss: 2.7453 - mae: 3.2132\n",
            "Epoch 109/150\n",
            "25/25 [==============================] - 1s 20ms/step - loss: 2.7422 - mae: 3.2093\n",
            "Epoch 110/150\n",
            "25/25 [==============================] - 1s 19ms/step - loss: 2.8714 - mae: 3.3423\n",
            "Epoch 111/150\n",
            "25/25 [==============================] - 1s 19ms/step - loss: 2.7874 - mae: 3.2546\n",
            "Epoch 112/150\n",
            "25/25 [==============================] - 1s 20ms/step - loss: 2.7422 - mae: 3.2081\n",
            "Epoch 113/150\n",
            "25/25 [==============================] - 1s 20ms/step - loss: 2.7372 - mae: 3.2038\n",
            "Epoch 114/150\n",
            "25/25 [==============================] - 1s 19ms/step - loss: 2.7836 - mae: 3.2501\n",
            "Epoch 115/150\n",
            "25/25 [==============================] - 1s 18ms/step - loss: 2.8078 - mae: 3.2776\n",
            "Epoch 116/150\n",
            "25/25 [==============================] - 1s 19ms/step - loss: 2.7481 - mae: 3.2153\n",
            "Epoch 117/150\n",
            "25/25 [==============================] - 1s 19ms/step - loss: 2.7649 - mae: 3.2328\n",
            "Epoch 118/150\n",
            "25/25 [==============================] - 1s 32ms/step - loss: 2.7513 - mae: 3.2172\n",
            "Epoch 119/150\n",
            "25/25 [==============================] - 1s 36ms/step - loss: 2.8063 - mae: 3.2764\n",
            "Epoch 120/150\n",
            "25/25 [==============================] - 1s 20ms/step - loss: 2.7658 - mae: 3.2336\n",
            "Epoch 121/150\n",
            "25/25 [==============================] - 1s 20ms/step - loss: 2.8312 - mae: 3.3001\n",
            "Epoch 122/150\n",
            "25/25 [==============================] - 1s 20ms/step - loss: 2.7862 - mae: 3.2539\n",
            "Epoch 123/150\n",
            "25/25 [==============================] - 1s 19ms/step - loss: 2.8832 - mae: 3.3522\n",
            "Epoch 124/150\n",
            "25/25 [==============================] - 1s 19ms/step - loss: 2.8120 - mae: 3.2795\n",
            "Epoch 125/150\n",
            "25/25 [==============================] - 1s 30ms/step - loss: 2.7771 - mae: 3.2436\n",
            "Epoch 126/150\n",
            "25/25 [==============================] - 1s 25ms/step - loss: 2.7976 - mae: 3.2654\n",
            "Epoch 127/150\n",
            "25/25 [==============================] - 1s 21ms/step - loss: 2.8140 - mae: 3.2803\n",
            "Epoch 128/150\n",
            "25/25 [==============================] - 1s 20ms/step - loss: 2.7912 - mae: 3.2597\n",
            "Epoch 129/150\n",
            "25/25 [==============================] - 1s 20ms/step - loss: 2.8478 - mae: 3.3166\n",
            "Epoch 130/150\n",
            "25/25 [==============================] - 1s 19ms/step - loss: 2.8203 - mae: 3.2866\n",
            "Epoch 131/150\n",
            "25/25 [==============================] - 1s 20ms/step - loss: 2.7344 - mae: 3.2000\n",
            "Epoch 132/150\n",
            "25/25 [==============================] - 1s 28ms/step - loss: 2.7628 - mae: 3.2296\n",
            "Epoch 133/150\n",
            "25/25 [==============================] - 1s 33ms/step - loss: 2.7493 - mae: 3.2163\n",
            "Epoch 134/150\n",
            "25/25 [==============================] - 1s 23ms/step - loss: 2.8024 - mae: 3.2720\n",
            "Epoch 135/150\n",
            "25/25 [==============================] - 1s 19ms/step - loss: 2.7565 - mae: 3.2240\n",
            "Epoch 136/150\n",
            "25/25 [==============================] - 1s 20ms/step - loss: 2.8100 - mae: 3.2786\n",
            "Epoch 137/150\n",
            "25/25 [==============================] - 1s 19ms/step - loss: 2.8338 - mae: 3.3005\n",
            "Epoch 138/150\n",
            "25/25 [==============================] - 1s 18ms/step - loss: 2.7668 - mae: 3.2357\n",
            "Epoch 139/150\n",
            "25/25 [==============================] - 1s 19ms/step - loss: 2.7492 - mae: 3.2153\n",
            "Epoch 140/150\n",
            "25/25 [==============================] - 1s 19ms/step - loss: 2.7499 - mae: 3.2171\n",
            "Epoch 141/150\n",
            "25/25 [==============================] - 1s 20ms/step - loss: 2.7390 - mae: 3.2052\n",
            "Epoch 142/150\n",
            "25/25 [==============================] - 1s 20ms/step - loss: 2.7387 - mae: 3.2065\n",
            "Epoch 143/150\n",
            "25/25 [==============================] - 1s 19ms/step - loss: 2.7728 - mae: 3.2381\n",
            "Epoch 144/150\n",
            "25/25 [==============================] - 1s 21ms/step - loss: 2.8117 - mae: 3.2802\n",
            "Epoch 145/150\n",
            "25/25 [==============================] - 1s 20ms/step - loss: 2.8674 - mae: 3.3340\n",
            "Epoch 146/150\n",
            "25/25 [==============================] - 1s 32ms/step - loss: 2.7504 - mae: 3.2190\n",
            "Epoch 147/150\n",
            "25/25 [==============================] - 1s 34ms/step - loss: 2.8172 - mae: 3.2833\n",
            "Epoch 148/150\n",
            "25/25 [==============================] - 1s 21ms/step - loss: 2.8110 - mae: 3.2783\n",
            "Epoch 149/150\n",
            "25/25 [==============================] - 1s 20ms/step - loss: 2.7520 - mae: 3.2200\n",
            "Epoch 150/150\n",
            "25/25 [==============================] - 1s 18ms/step - loss: 2.7762 - mae: 3.2455\n"
          ]
        }
      ]
    },
    {
      "cell_type": "code",
      "metadata": {
        "id": "GaC6NNMRp0lb",
        "colab": {
          "base_uri": "https://localhost:8080/"
        },
        "outputId": "e3186963-aa31-4627-be0f-1e2b4197d26b"
      },
      "source": [
        "rnn_forecast = model_forecast(model, series[..., np.newaxis], window_size)\n",
        "rnn_forecast = rnn_forecast[split_time - window_size:-1, -1, 0]"
      ],
      "execution_count": 12,
      "outputs": [
        {
          "output_type": "stream",
          "name": "stdout",
          "text": [
            "113/113 [==============================] - 2s 10ms/step\n"
          ]
        }
      ]
    },
    {
      "cell_type": "code",
      "metadata": {
        "id": "izy6wl2S9d-2",
        "colab": {
          "base_uri": "https://localhost:8080/",
          "height": 389
        },
        "outputId": "13c5c787-964f-4a58-c107-cbca0889d973"
      },
      "source": [
        "plt.figure(figsize=(10, 6))\n",
        "plot_series(time_valid, x_valid)\n",
        "plot_series(time_valid, rnn_forecast)\n",
        "\n",
        "# EXPECTED OUTPUT. PLOT SHOULD SHOW PROJECTIONS FOLLOWING ORIGINAL DATA CLOSELY"
      ],
      "execution_count": 13,
      "outputs": [
        {
          "output_type": "display_data",
          "data": {
            "text/plain": [
              "<Figure size 720x432 with 1 Axes>"
            ],
            "image/png": "[encoded data removed]"
          },
          "metadata": {
            "needs_background": "light"
          }
        }
      ]
    },
    {
      "cell_type": "code",
      "metadata": {
        "id": "13XrorC5wQoE",
        "colab": {
          "base_uri": "https://localhost:8080/"
        },
        "outputId": "ac94baf2-9cbc-4b7f-a731-b3f8ddf8e88e"
      },
      "source": [
        "tf.keras.metrics.mean_absolute_error(x_valid, rnn_forecast).numpy()\n",
        "\n",
        "# EXPECTED OUTPUT MAE < 2 -- I GOT 1.789626"
      ],
      "execution_count": 14,
      "outputs": [
        {
          "output_type": "execute_result",
          "data": {
            "text/plain": [
              "3.372876"
            ]
          },
          "metadata": {},
          "execution_count": 14
        }
      ]
    },
    {
      "cell_type": "code",
      "metadata": {
        "id": "AOVzQXxCwkzP",
        "colab": {
          "base_uri": "https://localhost:8080/"
        },
        "outputId": "a4a5a56b-90ee-4cac-90b9-fa0c3c10bb6a"
      },
      "source": [
        "print(rnn_forecast)\n",
        "# EXPECTED OUTPUT -- ARRAY OF VALUES IN THE LOW TEENS"
      ],
      "execution_count": 15,
      "outputs": [
        {
          "output_type": "stream",
          "name": "stdout",
          "text": [
            "[10.472686 10.257118 10.235372 ... 10.653496 10.656816 10.611163]\n"
          ]
        }
      ]
    }
  ]
}