{
  "nbformat": 4,
  "nbformat_minor": 0,
  "metadata": {
    "colab": {
      "provenance": [],
      "authorship_tag": "ABX9TyPSzRwGdfhovyhPM1UWxWxf",
      "include_colab_link": true
    },
    "kernelspec": {
      "name": "python3",
      "display_name": "Python 3"
    },
    "language_info": {
      "name": "python"
    }
  },
  "cells": [
    {
      "cell_type": "markdown",
      "metadata": {
        "id": "view-in-github",
        "colab_type": "text"
      },
      "source": [
        "<a href=\"https://colab.research.google.com/github/FatmaChahbar/MachineLearning_Projects/blob/main/1st_assignement.ipynb\" target=\"_parent\"><img src=\"https://colab.research.google.com/assets/colab-badge.svg\" alt=\"Open In Colab\"/></a>"
      ]
    },
    {
      "cell_type": "code",
      "execution_count": null,
      "metadata": {
        "id": "_PTPcYyKDxhM"
      },
      "outputs": [],
      "source": [
        "import tensorflow as tf\n",
        "import numpy as np\n",
        "from tensorflow import keras"
      ]
    },
    {
      "cell_type": "code",
      "source": [
        "# GRADED FUNCTION: house_model\n",
        "def house_model():\n",
        "    ### START CODE HERE\n",
        "    \n",
        "    # Define input and output tensors with the values for houses with 1 up to 6 bedrooms\n",
        "    # Hint: Remember to explictly set the dtype as float\n",
        "    xs =np.array([ 1, 2, 3, 4,5,6], dtype=float)\n",
        "    ys = np.array([1,1.5,2,2.5,3,3.5], dtype=float)\n",
        "    \n",
        "    # Define your model (should be a model with 1 dense layer and 1 unit)\n",
        "    model = tf.keras.Sequential([keras.layers.Dense(units=1, input_shape=[1])])\n",
        "    \n",
        "    # Compile your model\n",
        "    # Set the optimizer to Stochastic Gradient Descent\n",
        "    # and use Mean Squared Error as the loss function\n",
        "    model.compile(optimizer='sgd', loss='mean_squared_error')\n",
        "    \n",
        "    # Train your model for 1000 epochs by feeding the i/o tensors\n",
        "    model.fit(xs, ys, epochs=500)\n",
        "    \n",
        "    ### END CODE HERE\n",
        "    return model"
      ],
      "metadata": {
        "id": "faJQ_iL8D7ge"
      },
      "execution_count": null,
      "outputs": []
    },
    {
      "cell_type": "code",
      "source": [
        "# Get your trained model\n",
        "model = house_model()"
      ],
      "metadata": {
        "id": "XeQlRO9-D717"
      },
      "execution_count": null,
      "outputs": []
    },
    {
      "cell_type": "code",
      "source": [
        "new_y = 7.0\n",
        "prediction = model.predict([new_y])[0]\n",
        "print(prediction)"
      ],
      "metadata": {
        "colab": {
          "base_uri": "https://localhost:8080/"
        },
        "id": "VgO9d_RkD75n",
        "outputId": "64ea4380-90ad-4619-f136-745c1a5c27dc"
      },
      "execution_count": null,
      "outputs": [
        {
          "output_type": "stream",
          "name": "stdout",
          "text": [
            "[4.0447598]\n"
          ]
        }
      ]
    },
    {
      "cell_type": "code",
      "source": [
        "model.save('model.h5')"
      ],
      "metadata": {
        "id": "UwBHJRnynWka"
      },
      "execution_count": null,
      "outputs": []
    }
  ]
}